{
 "cells": [
  {
   "cell_type": "code",
   "execution_count": 1,
   "metadata": {},
   "outputs": [
    {
     "name": "stderr",
     "output_type": "stream",
     "text": [
      "/Users/tanmaygoyal/opt/anaconda3/envs/pytorch_acc/lib/python3.11/site-packages/tqdm/auto.py:21: TqdmWarning: IProgress not found. Please update jupyter and ipywidgets. See https://ipywidgets.readthedocs.io/en/stable/user_install.html\n",
      "  from .autonotebook import tqdm as notebook_tqdm\n"
     ]
    }
   ],
   "source": [
    "from transformers import AutoTokenizer, BertForQuestionAnswering, BertModel\n",
    "import torch\n",
    "import seaborn as sns\n",
    "import matplotlib.pyplot as plt\n",
    "import numpy as np"
   ]
  },
  {
   "cell_type": "code",
   "execution_count": 121,
   "metadata": {},
   "outputs": [
    {
     "name": "stdout",
     "output_type": "stream",
     "text": [
      "dict_keys(['input_ids', 'attention_mask'])\n"
     ]
    }
   ],
   "source": [
    "# Load model and retrieve attention weights\n",
    "\n",
    "from bertviz import head_view, model_view\n",
    "# from transformers import BertTokenizer, BertModel\n",
    "from transformers import AutoTokenizer, BertForQuestionAnswering, AutoModel\n",
    "\n",
    "model_version = 'sentence-transformers/all-mpnet-base-v2'\n",
    "model = AutoModel.from_pretrained(model_version, output_attentions=True, output_hidden_states=True)\n",
    "tokenizer = AutoTokenizer.from_pretrained(model_version)\n",
    "question = \"he is a good man\"\n",
    "text = \"he is a good man\"\n",
    "inputs = tokenizer.encode_plus(question,text, return_tensors='pt')\n",
    "input_ids = inputs['input_ids']\n",
    "print(inputs.keys())\n",
    "# token_type_ids = inputs['token_type_ids']\n",
    "attention = model(input_ids, token_type_ids=token_type_ids)[-1]\n",
    "sentence_b_start = token_type_ids[0].tolist().index(1)\n",
    "input_id_list = input_ids[0].tolist() # Batch index 0\n",
    "tokens = tokenizer.convert_ids_to_tokens(input_id_list) "
   ]
  },
  {
   "cell_type": "code",
   "execution_count": null,
   "metadata": {},
   "outputs": [
    {
     "name": "stdout",
     "output_type": "stream",
     "text": [
      "tensor(101) : [CLS]\n",
      "tensor(2002) : he\n",
      "tensor(2003) : is\n",
      "tensor(1037) : a\n",
      "tensor(2204) : good\n",
      "tensor(2158) : man\n",
      "tensor(102) : [SEP]\n",
      "tensor(2002) : he\n",
      "tensor(2003) : is\n",
      "tensor(1037) : a\n",
      "tensor(2204) : good\n",
      "tensor(2158) : man\n",
      "tensor(102) : [SEP]\n"
     ]
    }
   ],
   "source": [
    "ticks = []\n",
    "for i in range(len(inputs.input_ids[0])):\n",
    "    print(inputs.input_ids[0][i], ':', tokenizer.decode(inputs.input_ids[0][i]))\n",
    "    ticks.append(tokenizer.decode(inputs.input_ids[0][i]))"
   ]
  },
  {
   "cell_type": "code",
   "execution_count": null,
   "metadata": {},
   "outputs": [
    {
     "name": "stdout",
     "output_type": "stream",
     "text": [
      "torch.Size([6, 1, 12, 13, 13])\n"
     ]
    }
   ],
   "source": [
    "attention_tensors = []\n",
    "\n",
    "for tensor in model(input_ids, token_type_ids=token_type_ids).attentions:\n",
    "    attention_tensors.append(tensor.detach().numpy())\n",
    "\n",
    "attentions_temp = torch.tensor(np.array(attention_tensors))\n",
    "print(attentions_temp.shape)"
   ]
  },
  {
   "cell_type": "code",
   "execution_count": null,
   "metadata": {},
   "outputs": [
    {
     "data": {
      "text/plain": [
       "tensor([[0.9212, 0.0021, 0.0044, 0.0031, 0.0056, 0.0083, 0.0177, 0.0021, 0.0032,\n",
       "         0.0035, 0.0054, 0.0066, 0.0169],\n",
       "        [0.6013, 0.0702, 0.0637, 0.0089, 0.0075, 0.0287, 0.0204, 0.0805, 0.0478,\n",
       "         0.0087, 0.0052, 0.0347, 0.0224],\n",
       "        [0.2116, 0.0171, 0.2516, 0.0390, 0.0673, 0.0279, 0.0286, 0.0162, 0.1892,\n",
       "         0.0488, 0.0425, 0.0270, 0.0331],\n",
       "        [0.1017, 0.0343, 0.2357, 0.0717, 0.0601, 0.0321, 0.0467, 0.0395, 0.1722,\n",
       "         0.0722, 0.0362, 0.0353, 0.0623],\n",
       "        [0.5343, 0.0043, 0.0231, 0.0103, 0.0769, 0.0618, 0.0262, 0.0043, 0.0262,\n",
       "         0.0246, 0.0920, 0.0759, 0.0402],\n",
       "        [0.6869, 0.0110, 0.0126, 0.0036, 0.0165, 0.0931, 0.0174, 0.0088, 0.0101,\n",
       "         0.0057, 0.0158, 0.0971, 0.0214],\n",
       "        [0.0123, 0.0234, 0.4706, 0.0280, 0.0346, 0.0285, 0.1114, 0.0139, 0.1382,\n",
       "         0.0109, 0.0103, 0.0132, 0.1047],\n",
       "        [0.4497, 0.1049, 0.1020, 0.0160, 0.0112, 0.0348, 0.0313, 0.1009, 0.0572,\n",
       "         0.0110, 0.0063, 0.0366, 0.0381],\n",
       "        [0.2533, 0.0225, 0.2236, 0.0586, 0.0743, 0.0346, 0.0437, 0.0166, 0.1162,\n",
       "         0.0439, 0.0395, 0.0251, 0.0480],\n",
       "        [0.0974, 0.0418, 0.2271, 0.1048, 0.0671, 0.0528, 0.0636, 0.0345, 0.1020,\n",
       "         0.0635, 0.0296, 0.0365, 0.0793],\n",
       "        [0.6142, 0.0045, 0.0184, 0.0119, 0.0620, 0.0663, 0.0306, 0.0034, 0.0141,\n",
       "         0.0164, 0.0616, 0.0574, 0.0392],\n",
       "        [0.7216, 0.0115, 0.0120, 0.0043, 0.0147, 0.1030, 0.0215, 0.0072, 0.0061,\n",
       "         0.0037, 0.0097, 0.0636, 0.0213],\n",
       "        [0.0231, 0.0307, 0.4493, 0.0347, 0.0371, 0.0431, 0.1013, 0.0193, 0.1358,\n",
       "         0.0133, 0.0104, 0.0169, 0.0850]])"
      ]
     },
     "execution_count": 109,
     "metadata": {},
     "output_type": "execute_result"
    }
   ],
   "source": [
    "a = attentions_temp\n",
    "a[-2][0][0]"
   ]
  },
  {
   "cell_type": "code",
   "execution_count": null,
   "metadata": {},
   "outputs": [],
   "source": [
    "sentence1_len = len(question.split(\" \"))\n"
   ]
  },
  {
   "cell_type": "code",
   "execution_count": null,
   "metadata": {},
   "outputs": [
    {
     "data": {
      "text/plain": [
       "<Axes: >"
      ]
     },
     "execution_count": 111,
     "metadata": {},
     "output_type": "execute_result"
    },
    {
     "data": {
      "image/png": "[encoded data removed]",
      "text/plain": [
       "<Figure size 640x480 with 2 Axes>"
      ]
     },
     "metadata": {},
     "output_type": "display_data"
    }
   ],
   "source": [
    "sns.heatmap(attentions_temp.mean(axis=2)[-2][0].T[1:sentence1_len+2,sentence1_len+2:] ,xticklabels = ticks[sentence1_len+2:] , yticklabels = ticks[1:sentence1_len+2])"
   ]
  },
  {
   "cell_type": "code",
   "execution_count": null,
   "metadata": {},
   "outputs": [
    {
     "data": {
      "text/plain": [
       "tensor([[0.0421, 0.0409, 0.0336, 0.0095, 0.0172, 0.0474],\n",
       "        [0.0193, 0.0492, 0.0426, 0.0117, 0.0106, 0.0570],\n",
       "        [0.0120, 0.0302, 0.0290, 0.0100, 0.0077, 0.0190],\n",
       "        [0.0188, 0.0537, 0.0471, 0.0344, 0.0193, 0.0451],\n",
       "        [0.0439, 0.0358, 0.0449, 0.0202, 0.0317, 0.0672],\n",
       "        [0.0240, 0.0332, 0.0316, 0.0130, 0.0147, 0.0244]])"
      ]
     },
     "execution_count": 112,
     "metadata": {},
     "output_type": "execute_result"
    }
   ],
   "source": [
    "attentions_temp.mean(axis=2)[-2][0].T[1:sentence1_len+2,sentence1_len+2:]"
   ]
  },
  {
   "cell_type": "code",
   "execution_count": null,
   "metadata": {},
   "outputs": [
    {
     "data": {
      "text/plain": [
       "{'input_ids': tensor([[ 101, 2002, 2003, 1037, 2204, 2158,  102, 2002, 2003, 1037, 2204, 2158,\n",
       "          102]]), 'token_type_ids': tensor([[0, 0, 0, 0, 0, 0, 0, 1, 1, 1, 1, 1, 1]]), 'attention_mask': tensor([[1, 1, 1, 1, 1, 1, 1, 1, 1, 1, 1, 1, 1]])}"
      ]
     },
     "execution_count": 113,
     "metadata": {},
     "output_type": "execute_result"
    }
   ],
   "source": [
    "tokenizer(question, text, return_tensors='pt')"
   ]
  },
  {
   "cell_type": "code",
   "execution_count": null,
   "metadata": {},
   "outputs": [],
   "source": [
    "from transformers import BertTokenizer\n",
    "tokenizer = BertTokenizer.from_pretrained('bert-base-uncased')\n",
    "model = BertModel.from_pretrained('bert-base-uncased')"
   ]
  },
  {
   "cell_type": "code",
   "execution_count": null,
   "metadata": {},
   "outputs": [],
   "source": [
    "\n",
    " import numpy as np\n",
    " import torch\n",
    " from transformers import AutoTokenizer, AutoModel\n",
    " \n",
    " \n",
    " def get_word_idx(sent: str, word: str):\n",
    "    return sent.split(\" \").index(word)\n",
    " \n",
    " \n",
    " def get_hidden_states(encoded, token_ids_word, model, layers):\n",
    "     \"\"\"Push input IDs through model. Stack and sum `layers` (last four by default).\n",
    "        Select only those subword token outputs that belong to our word of interest\n",
    "        and average them.\"\"\"\n",
    "     with torch.no_grad():\n",
    "         output = model(**encoded)\n",
    " \n",
    "     # Get all hidden states\n",
    "     states = output.hidden_states\n",
    "     # Stack and sum all requested layers\n",
    "     output = torch.stack([states[i] for i in layers]).sum(0).squeeze()\n",
    "     # Only select the tokens that constitute the requested word\n",
    "     word_tokens_output = output[token_ids_word]\n",
    " \n",
    "     return word_tokens_output.mean(dim=0)\n",
    " \n",
    " \n",
    " def get_word_vector(sent, idx, tokenizer, model, layers):\n",
    "     \"\"\"Get a word vector by first tokenizing the input sentence, getting all token idxs\n",
    "        that make up the word of interest, and then `get_hidden_states`.\"\"\"\n",
    "     encoded = tokenizer.encode_plus(sent, return_tensors=\"pt\")\n",
    "     # get all token idxs that belong to the word of interest\n",
    "     token_ids_word = np.where(np.array(encoded.word_ids()) == idx)\n",
    " \n",
    "     return get_hidden_states(encoded, token_ids_word, model, layers)\n",
    " \n",
    " \n",
    " def main(layers , sent1 , sent2):\n",
    "    # Use last four layers by default\n",
    "    layers = [-4, -3, -2, -1] if layers is None else layers\n",
    "    tokenizer = AutoTokenizer.from_pretrained(\"bert-base-cased\")\n",
    "    model = AutoModel.from_pretrained(\"bert-base-cased\", output_hidden_states=True)\n",
    "\n",
    "    sent1_embeddings = []\n",
    "    sent2_embeddings = []\n",
    "    sent1 = sent1\n",
    "    sent2 = sent2\n",
    "    for w in sent1.split(\" \"):\n",
    "        sent1_embeddings.append(get_word_vector(sent1, get_word_idx(sent1, w), tokenizer, model, layers))\n",
    "    for w in sent2.split(\" \"):\n",
    "        sent2_embeddings.append(get_word_vector(sent2 , get_word_idx(sent2, w), tokenizer, model, layers))\n",
    "    # idx = get_word_idx(sent, \"cookies\")\n",
    "\n",
    "    # word_embedding = get_word_vector(sent, idx, tokenizer, model, layers)\n",
    "     \n",
    "    return sent1_embeddings, sent2_embeddings \n"
   ]
  },
  {
   "cell_type": "code",
   "execution_count": null,
   "metadata": {},
   "outputs": [
    {
     "name": "stdout",
     "output_type": "stream",
     "text": [
      "he he tensor([1.0000])\n",
      "he is tensor([0.7903])\n",
      "he a tensor([0.7180])\n",
      "he good tensor([0.6882])\n",
      "he man tensor([0.7637])\n",
      "is he tensor([0.7903])\n",
      "is is tensor([1.0000])\n",
      "is a tensor([0.8656])\n",
      "is good tensor([0.7868])\n",
      "is man tensor([0.7871])\n",
      "a he tensor([0.7180])\n",
      "a is tensor([0.8656])\n",
      "a a tensor([1.])\n",
      "a good tensor([0.8002])\n",
      "a man tensor([0.7467])\n",
      "good he tensor([0.6882])\n",
      "good is tensor([0.7868])\n",
      "good a tensor([0.8002])\n",
      "good good tensor([1.0000])\n",
      "good man tensor([0.7622])\n",
      "man he tensor([0.7637])\n",
      "man is tensor([0.7871])\n",
      "man a tensor([0.7467])\n",
      "man good tensor([0.7622])\n",
      "man man tensor([1.0000])\n"
     ]
    }
   ],
   "source": [
    "sent1 = question\n",
    "sent2 = text\n",
    "s1 , s2 = main(None , sent1 , sent2)\n",
    "sentence1 = sent1.split(\" \")\n",
    "sentence2 = sent2.split(\" \")\n",
    "for idx1 , v1 in enumerate(s1):\n",
    "    for idx2 , v2 in enumerate(s2):\n",
    "        print(sentence1[idx1] , sentence2[idx2] , torch.cosine_similarity(v1.unsqueeze(0), v2.unsqueeze(0)))"
   ]
  },
  {
   "cell_type": "code",
   "execution_count": null,
   "metadata": {},
   "outputs": [
    {
     "name": "stdout",
     "output_type": "stream",
     "text": [
      "0 he tensor(5)\n",
      "1 is tensor(5)\n",
      "2 a tensor(1)\n",
      "a is tensor([0.8656])\n",
      "3 good tensor(1)\n",
      "good is tensor([0.7868])\n",
      "4 man tensor(5)\n",
      "tensor([1.6524])\n",
      "tensor([0.3305])\n"
     ]
    }
   ],
   "source": [
    "attention_second_last = attentions_temp.mean(axis=2)[-2][0].T[1:sentence1_len+2,sentence1_len+2:] \n",
    "sum = 0\n",
    "for r in range(attention_second_last.shape[0]-1):\n",
    "    max_idx = np.argmax(attention_second_last[r])\n",
    "    print(r , sentence1[r] , max_idx)\n",
    "    if max_idx == len(attention_second_last[r])-1:\n",
    "        continue\n",
    "    print(sentence1[r] , sentence2[max_idx] , torch.cosine_similarity(s1[r].unsqueeze(0), s2[max_idx].unsqueeze(0)))\n",
    "    sum+=torch.cosine_similarity(s1[r].unsqueeze(0), s2[max_idx].unsqueeze(0))\n",
    "\n",
    "\n",
    "print(sum)\n",
    "print(sum/len(question.split(\" \")))"
   ]
  },
  {
   "cell_type": "code",
   "execution_count": null,
   "metadata": {},
   "outputs": [],
   "source": []
  }
 ],
 "metadata": {
  "kernelspec": {
   "display_name": "base",
   "language": "python",
   "name": "python3"
  },
  "language_info": {
   "codemirror_mode": {
    "name": "ipython",
    "version": 3
   },
   "file_extension": ".py",
   "mimetype": "text/x-python",
   "name": "python",
   "nbconvert_exporter": "python",
   "pygments_lexer": "ipython3",
   "version": "3.11.4"
  }
 },
 "nbformat": 4,
 "nbformat_minor": 2
}
