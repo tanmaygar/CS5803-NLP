{
 "cells": [
  {
   "cell_type": "markdown",
   "metadata": {},
   "source": [
    "## CS5803 NLP\n",
    "### Assignment 2\n",
    "#### Tanmay Garg, Tanmay Goyal, Tanay Yadav\n",
    "#### Roll no: CS20BTECH11063, AI20BTECH11021, AI20BTECH11026"
   ]
  },
  {
   "cell_type": "code",
   "execution_count": 7,
   "metadata": {},
   "outputs": [
    {
     "name": "stderr",
     "output_type": "stream",
     "text": [
      "[nltk_data] Downloading package punkt to\n",
      "[nltk_data]     C:\\Users\\sumit\\AppData\\Roaming\\nltk_data...\n",
      "[nltk_data]   Package punkt is already up-to-date!\n",
      "[nltk_data] Downloading package stopwords to\n",
      "[nltk_data]     C:\\Users\\sumit\\AppData\\Roaming\\nltk_data...\n",
      "[nltk_data]   Package stopwords is already up-to-date!\n"
     ]
    },
    {
     "data": {
      "text/plain": [
       "True"
      ]
     },
     "execution_count": 7,
     "metadata": {},
     "output_type": "execute_result"
    }
   ],
   "source": [
    "import re\n",
    "from collections import defaultdict\n",
    "from math import log, exp  \n",
    "import numpy as np\n",
    "import random\n",
    "import nltk\n",
    "nltk.download('punkt')\n",
    "nltk.download('stopwords')"
   ]
  },
  {
   "cell_type": "markdown",
   "metadata": {},
   "source": [
    "# Q1"
   ]
  },
  {
   "cell_type": "code",
   "execution_count": 8,
   "metadata": {},
   "outputs": [],
   "source": [
    "with open('Harry_Potter_all_char_separated.txt', 'r', encoding='utf-8') as file:\n",
    "    happy_potter_data = file.read()\n",
    "\n",
    "def preprocess_text(text):\n",
    "    '''\n",
    "    Function to preprocess the text by removing punctuations and converting to lower case\n",
    "    '''\n",
    "    text = re.sub(r'[^\\w\\s]', '', text).lower()\n",
    "    return text\n",
    "\n",
    "def tokenize(text):\n",
    "    '''\n",
    "    Function to tokenize the text\n",
    "    '''\n",
    "    tokens = nltk.word_tokenize(text)\n",
    "    # stop_words = set(nltk.corpus.stopwords.words('english'))\n",
    "    # tokens = [token for token in tokens if token not in stop_words]\n",
    "    return tokens\n",
    "\n",
    "harry_potter_text = preprocess_text(happy_potter_data)\n",
    "harry_potter_tokens = tokenize(harry_potter_text)[:10000]"
   ]
  },
  {
   "cell_type": "markdown",
   "metadata": {},
   "source": [
    "# Q2"
   ]
  },
  {
   "cell_type": "code",
   "execution_count": 9,
   "metadata": {},
   "outputs": [],
   "source": [
    "# fit two bigram language models on the text: MLE and Kneser-Ney discounting using the nltk library\n",
    "\n",
    "def MLE_bigram(bigrams, tokens):\n",
    "    '''\n",
    "    Function to fit a bigram language model using MLE\n",
    "    '''\n",
    "    bigram_mle = nltk.lm.MLE(2)\n",
    "    bigram_mle.fit([bigrams], vocabulary_text=tokens)\n",
    "    return bigram_mle\n",
    "\n",
    "def KN_bigram(bigrams, tokens):\n",
    "    '''\n",
    "    Function to fit a bigram language model using Kneser-Ney discounting\n",
    "    '''\n",
    "    bigram_kn = nltk.lm.KneserNeyInterpolated(2)\n",
    "    bigram_kn.fit([bigrams], vocabulary_text=tokens)\n",
    "    return bigram_kn\n",
    "\n",
    "harry_potter_bigrams = nltk.ngrams(harry_potter_tokens, 2)\n",
    "\n",
    "bigram_mle = MLE_bigram(harry_potter_bigrams, harry_potter_tokens)\n",
    "bigram_kn = KN_bigram(harry_potter_bigrams, harry_potter_tokens)\n"
   ]
  },
  {
   "cell_type": "markdown",
   "metadata": {},
   "source": [
    "# Q3"
   ]
  },
  {
   "cell_type": "code",
   "execution_count": 10,
   "metadata": {},
   "outputs": [],
   "source": [
    "# #Use the beginning words 1. ”Harry Potter” and 2. ”Dumbledore” to generate text using both the language models. Keep the maximum text length as 20.\n",
    "# # def generate_text(model, start_words, max_length=20, random_seed=42):\n",
    "# #     generated_text = start_words\n",
    "# #     current_word = start_words.split()[-1]\n",
    "# #     for _ in range(max_length - 1):\n",
    "# #         next_word = model.generate(text_seed=[current_word])\n",
    "# #         if next_word:\n",
    "# #             generated_text += \" \" + next_word[-1]\n",
    "# #             current_word = next_word[-1]\n",
    "# #         else:\n",
    "# #             break\n",
    "# #     return generated_text\n",
    "\n",
    "# # def generate_text(model, start_word, max_length=20):\n",
    "# #     generated_text = start_word\n",
    "# #     for _ in range(max_length - 1):\n",
    "# #         # Get the last word of the generated text\n",
    "# #         current_word = generated_text.split()[-1]\n",
    "# #         try:\n",
    "# #             # Generate the next word using the bigram model\n",
    "# #             next_word = model.generate(text_seed=[current_word])\n",
    "# #             if next_word:\n",
    "# #                 # Append the generated word to the text\n",
    "# #                 generated_text += \" \" + next_word[-1]\n",
    "# #             else:\n",
    "# #                 # If the model can't generate a next word, break the loop\n",
    "# #                 break\n",
    "# #         except ValueError:\n",
    "# #             # If the model can't generate a next word, break the loop\n",
    "# #             break\n",
    "# #     return generated_text\n",
    "\n",
    "# def generate_text(model, start_word, max_length=20):\n",
    "#     sentence = [start_word]\n",
    "#     current_word = start_word\n",
    "\n",
    "#     for _ in range(max_length):\n",
    "#         next_word = model[current_word].generate()\n",
    "#         sentence.append(next_word)\n",
    "#         current_word = next_word\n",
    "#         if next_word == '.':\n",
    "#             break\n",
    "\n",
    "#     return ' '.join(sentence)\n",
    "\n",
    "\n",
    "\n",
    "# # Generate text using MLE model\n",
    "# generated_text_mle_hp = generate_text(bigram_mle, \"Harry Potter\", max_length=20)\n",
    "# generated_text_mle_dumbledore = generate_text(bigram_mle, \"Dumbledore\", max_length=20)\n",
    "\n",
    "# # Generate text using Kneser-Ney model\n",
    "# generated_text_kn_hp = generate_text(bigram_kn, \"Harry Potter\", max_length=20)\n",
    "# generated_text_kn_dumbledore = generate_text(bigram_kn, \"Dumbledore\", max_length=20)\n",
    "\n",
    "# print(\"Generated text using MLE model (Harry Potter):\", generated_text_mle_hp)\n",
    "# print(\"Generated text using MLE model (Dumbledore):\", generated_text_mle_dumbledore)\n",
    "# print(\"Generated text using Kneser-Ney model (Harry Potter):\", generated_text_kn_hp)\n",
    "# print(\"Generated text using Kneser-Ney model (Dumbledore):\", generated_text_kn_dumbledore)"
   ]
  },
  {
   "cell_type": "code",
   "execution_count": 11,
   "metadata": {},
   "outputs": [
    {
     "ename": "ValueError",
     "evalue": "Can't choose from empty population",
     "output_type": "error",
     "traceback": [
      "\u001b[1;31m---------------------------------------------------------------------------\u001b[0m",
      "\u001b[1;31mValueError\u001b[0m                                Traceback (most recent call last)",
      "Cell \u001b[1;32mIn [11], line 12\u001b[0m\n\u001b[0;32m      8\u001b[0m     \u001b[38;5;28;01mreturn\u001b[39;00m \u001b[38;5;124m'\u001b[39m\u001b[38;5;124m \u001b[39m\u001b[38;5;124m'\u001b[39m\u001b[38;5;241m.\u001b[39mjoin(words)\n\u001b[0;32m     11\u001b[0m \u001b[38;5;66;03m# Generate text using MLE model\u001b[39;00m\n\u001b[1;32m---> 12\u001b[0m generated_text_mle_hp \u001b[38;5;241m=\u001b[39m \u001b[43mgenerate_text\u001b[49m\u001b[43m(\u001b[49m\u001b[43mbigram_mle\u001b[49m\u001b[43m,\u001b[49m\u001b[43m \u001b[49m\u001b[38;5;124;43m\"\u001b[39;49m\u001b[38;5;124;43mHarry Potter\u001b[39;49m\u001b[38;5;124;43m\"\u001b[39;49m\u001b[43m,\u001b[49m\u001b[43m \u001b[49m\u001b[43mmax_length\u001b[49m\u001b[38;5;241;43m=\u001b[39;49m\u001b[38;5;241;43m20\u001b[39;49m\u001b[43m)\u001b[49m\n",
      "Cell \u001b[1;32mIn [11], line 3\u001b[0m, in \u001b[0;36mgenerate_text\u001b[1;34m(model, start_word, max_length)\u001b[0m\n\u001b[0;32m      1\u001b[0m \u001b[38;5;28;01mdef\u001b[39;00m \u001b[38;5;21mgenerate_text\u001b[39m(model, start_word, max_length\u001b[38;5;241m=\u001b[39m\u001b[38;5;241m20\u001b[39m):\n\u001b[0;32m      2\u001b[0m     words \u001b[38;5;241m=\u001b[39m [start_word]\n\u001b[1;32m----> 3\u001b[0m     next_word \u001b[38;5;241m=\u001b[39m \u001b[43mmodel\u001b[49m\u001b[38;5;241;43m.\u001b[39;49m\u001b[43mgenerate\u001b[49m\u001b[43m(\u001b[49m\u001b[43mtext_seed\u001b[49m\u001b[38;5;241;43m=\u001b[39;49m\u001b[43m[\u001b[49m\u001b[43mstart_word\u001b[49m\u001b[43m]\u001b[49m\u001b[43m)\u001b[49m\n\u001b[0;32m      4\u001b[0m     words\u001b[38;5;241m.\u001b[39mappend(next_word[\u001b[38;5;241m-\u001b[39m\u001b[38;5;241m1\u001b[39m])\n\u001b[0;32m      5\u001b[0m     \u001b[38;5;28;01mwhile\u001b[39;00m next_word \u001b[38;5;129;01mand\u001b[39;00m \u001b[38;5;28mlen\u001b[39m(words) \u001b[38;5;241m<\u001b[39m max_length:\n",
      "File \u001b[1;32mc:\\Users\\sumit\\AppData\\Local\\Programs\\Python\\Python39\\lib\\site-packages\\nltk\\lm\\api.py:220\u001b[0m, in \u001b[0;36mLanguageModel.generate\u001b[1;34m(self, num_words, text_seed, random_seed)\u001b[0m\n\u001b[0;32m    216\u001b[0m     \u001b[38;5;66;03m# Sorting samples achieves two things:\u001b[39;00m\n\u001b[0;32m    217\u001b[0m     \u001b[38;5;66;03m# - reproducible randomness when sampling\u001b[39;00m\n\u001b[0;32m    218\u001b[0m     \u001b[38;5;66;03m# - turns Mapping into Sequence which `_weighted_choice` expects\u001b[39;00m\n\u001b[0;32m    219\u001b[0m     samples \u001b[38;5;241m=\u001b[39m \u001b[38;5;28msorted\u001b[39m(samples)\n\u001b[1;32m--> 220\u001b[0m     \u001b[38;5;28;01mreturn\u001b[39;00m \u001b[43m_weighted_choice\u001b[49m\u001b[43m(\u001b[49m\n\u001b[0;32m    221\u001b[0m \u001b[43m        \u001b[49m\u001b[43msamples\u001b[49m\u001b[43m,\u001b[49m\n\u001b[0;32m    222\u001b[0m \u001b[43m        \u001b[49m\u001b[38;5;28;43mtuple\u001b[39;49m\u001b[43m(\u001b[49m\u001b[38;5;28;43mself\u001b[39;49m\u001b[38;5;241;43m.\u001b[39;49m\u001b[43mscore\u001b[49m\u001b[43m(\u001b[49m\u001b[43mw\u001b[49m\u001b[43m,\u001b[49m\u001b[43m \u001b[49m\u001b[43mcontext\u001b[49m\u001b[43m)\u001b[49m\u001b[43m \u001b[49m\u001b[38;5;28;43;01mfor\u001b[39;49;00m\u001b[43m \u001b[49m\u001b[43mw\u001b[49m\u001b[43m \u001b[49m\u001b[38;5;129;43;01min\u001b[39;49;00m\u001b[43m \u001b[49m\u001b[43msamples\u001b[49m\u001b[43m)\u001b[49m\u001b[43m,\u001b[49m\n\u001b[0;32m    223\u001b[0m \u001b[43m        \u001b[49m\u001b[43mrandom_generator\u001b[49m\u001b[43m,\u001b[49m\n\u001b[0;32m    224\u001b[0m \u001b[43m    \u001b[49m\u001b[43m)\u001b[49m\n\u001b[0;32m    225\u001b[0m \u001b[38;5;66;03m# We build up text one word at a time using the preceding context.\u001b[39;00m\n\u001b[0;32m    226\u001b[0m generated \u001b[38;5;241m=\u001b[39m []\n",
      "File \u001b[1;32mc:\\Users\\sumit\\AppData\\Local\\Programs\\Python\\Python39\\lib\\site-packages\\nltk\\lm\\api.py:64\u001b[0m, in \u001b[0;36m_weighted_choice\u001b[1;34m(population, weights, random_generator)\u001b[0m\n\u001b[0;32m     59\u001b[0m \u001b[38;5;124;03m\"\"\"Like random.choice, but with weights.\u001b[39;00m\n\u001b[0;32m     60\u001b[0m \n\u001b[0;32m     61\u001b[0m \u001b[38;5;124;03mHeavily inspired by python 3.6 `random.choices`.\u001b[39;00m\n\u001b[0;32m     62\u001b[0m \u001b[38;5;124;03m\"\"\"\u001b[39;00m\n\u001b[0;32m     63\u001b[0m \u001b[38;5;28;01mif\u001b[39;00m \u001b[38;5;129;01mnot\u001b[39;00m population:\n\u001b[1;32m---> 64\u001b[0m     \u001b[38;5;28;01mraise\u001b[39;00m \u001b[38;5;167;01mValueError\u001b[39;00m(\u001b[38;5;124m\"\u001b[39m\u001b[38;5;124mCan\u001b[39m\u001b[38;5;124m'\u001b[39m\u001b[38;5;124mt choose from empty population\u001b[39m\u001b[38;5;124m\"\u001b[39m)\n\u001b[0;32m     65\u001b[0m \u001b[38;5;28;01mif\u001b[39;00m \u001b[38;5;28mlen\u001b[39m(population) \u001b[38;5;241m!=\u001b[39m \u001b[38;5;28mlen\u001b[39m(weights):\n\u001b[0;32m     66\u001b[0m     \u001b[38;5;28;01mraise\u001b[39;00m \u001b[38;5;167;01mValueError\u001b[39;00m(\u001b[38;5;124m\"\u001b[39m\u001b[38;5;124mThe number of weights does not match the population\u001b[39m\u001b[38;5;124m\"\u001b[39m)\n",
      "\u001b[1;31mValueError\u001b[0m: Can't choose from empty population"
     ]
    }
   ],
   "source": [
    "def generate_text(model, start_word, max_length=20):\n",
    "    words = [start_word]\n",
    "    next_word = model.generate(text_seed=[start_word])\n",
    "    words.append(next_word[-1])\n",
    "    while next_word and len(words) < max_length:\n",
    "        next_word = model.generate(text_seed=[words[-1]])\n",
    "        words.append(next_word[-1])\n",
    "    return ' '.join(words)\n",
    "    \n",
    "\n",
    "# Generate text using MLE model\n",
    "generated_text_mle_hp = generate_text(bigram_mle, \"Harry Potter\", max_length=20)\n"
   ]
  }
 ],
 "metadata": {
  "kernelspec": {
   "display_name": "Python 3",
   "language": "python",
   "name": "python3"
  },
  "language_info": {
   "codemirror_mode": {
    "name": "ipython",
    "version": 3
   },
   "file_extension": ".py",
   "mimetype": "text/x-python",
   "name": "python",
   "nbconvert_exporter": "python",
   "pygments_lexer": "ipython3",
   "version": "3.9.12"
  }
 },
 "nbformat": 4,
 "nbformat_minor": 2
}
