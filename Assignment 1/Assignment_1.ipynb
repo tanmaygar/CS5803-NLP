{
 "cells": [
  {
   "cell_type": "markdown",
   "metadata": {},
   "source": [
    "## CS5803 NLP\n",
    "### Assignment 1\n",
    "#### Tanmay Garg, Tanmay Goyal, Tanay Yadav\n",
    "#### Roll no: CS20BTECH11063, AI20BTECH11021, AI20BTECH11026"
   ]
  },
  {
   "cell_type": "markdown",
   "metadata": {},
   "source": [
    "### **BLEU Score**"
   ]
  },
  {
   "cell_type": "markdown",
   "metadata": {},
   "source": [
    "Let $x$ and $y$ be two sentences we wish to compare. Then, we define the modified N-gram as:\n",
    "\n",
    "$$p_n = \\frac{\\sum\\limits_{n-gram \\in x\\cap y}min(count_x(n-gram) , count_y(n-gram))}{\\sum\\limits_{n-gram \\in x}count_x(n-gram)}$$\n",
    "\n",
    "Here, $y$ is the ground truth and $x$ is the machine translated text. \n",
    "\n",
    "Define the BLEU Score as:\n",
    "\n",
    "$$BLEU = BP \\times exp\\left(\\sum\\limits_{n=1}^N w_n \\log(p_n)\\right)$$\n",
    "where $N = 4$ , $w_n = \\frac{1}{N}$ and BP is the Brevity Penalty, which we set to 1.\n",
    "\n",
    "1. Implement the BLEU score metric and pre-process the text by lower-casing the text and removing all punctuations.\n",
    "\n",
    "2. Use this implementation to find the BLEU score when $x$ = \"The boys were playing happily on the ground\" and $y$ = \"The boys were playing football on the field.\"\n",
    "\n",
    "3. Explain why we take a minimum in the numerator.\n",
    "\n",
    "4. Use the implmentation to find the BLEU score for 5 pairs of sentences and explain the disadvantage of the BLEU score."
   ]
  },
  {
   "cell_type": "code",
   "execution_count": 20,
   "metadata": {},
   "outputs": [
    {
     "name": "stdout",
     "output_type": "stream",
     "text": [
      "1\n",
      "{('the',): 2, ('boys',): 1, ('were',): 1, ('playing',): 1, ('happily',): 1, ('on',): 1, ('ground',): 1}\n",
      "{('the',): 2, ('boys',): 1, ('were',): 1, ('playing',): 1, ('football',): 1, ('on',): 1, ('field',): 1}\n",
      "2\n",
      "{('the', 'boys'): 1, ('boys', 'were'): 1, ('were', 'playing'): 1, ('playing', 'happily'): 1, ('happily', 'on'): 1, ('on', 'the'): 1, ('the', 'ground'): 1}\n",
      "{('the', 'boys'): 1, ('boys', 'were'): 1, ('were', 'playing'): 1, ('playing', 'football'): 1, ('football', 'on'): 1, ('on', 'the'): 1, ('the', 'field'): 1}\n",
      "3\n",
      "{('the', 'boys', 'were'): 1, ('boys', 'were', 'playing'): 1, ('were', 'playing', 'happily'): 1, ('playing', 'happily', 'on'): 1, ('happily', 'on', 'the'): 1, ('on', 'the', 'ground'): 1}\n",
      "{('the', 'boys', 'were'): 1, ('boys', 'were', 'playing'): 1, ('were', 'playing', 'football'): 1, ('playing', 'football', 'on'): 1, ('football', 'on', 'the'): 1, ('on', 'the', 'field'): 1}\n",
      "4\n",
      "{('the', 'boys', 'were', 'playing'): 1, ('boys', 'were', 'playing', 'happily'): 1, ('were', 'playing', 'happily', 'on'): 1, ('playing', 'happily', 'on', 'the'): 1, ('happily', 'on', 'the', 'ground'): 1}\n",
      "{('the', 'boys', 'were', 'playing'): 1, ('boys', 'were', 'playing', 'football'): 1, ('were', 'playing', 'football', 'on'): 1, ('playing', 'football', 'on', 'the'): 1, ('football', 'on', 'the', 'field'): 1}\n",
      "0.46369047619047615\n",
      "[0.75, 0.5714285714285714, 0.3333333333333333, 0.2]\n",
      "1.5899307728408418\n"
     ]
    }
   ],
   "source": [
    "import re\n",
    "from collections import defaultdict\n",
    "from math import log, exp  \n",
    "import numpy as np\n",
    "\n",
    "def preprocess_text(text):\n",
    "    '''\n",
    "    Function to preprocess the text by removing punctuations and converting to lower case\n",
    "    '''\n",
    "    # [^\\w\\s] -> ^ means except , \\w refers to any alphanumeric character and \\s refers to whitespace\n",
    "    text = re.sub(r'[^\\w\\s]', '', text).lower()\n",
    "    return text\n",
    "\n",
    "def n_gram_dict(text , n):\n",
    "    '''\n",
    "    Function to create a dictionary consisting of the n-grams and their counts\n",
    "    '''\n",
    "    text_list = text.split(' ')\n",
    "    dict = {}    \n",
    "    # we also check for duplicates\n",
    "    for i in range(n-1 , len(text_list)):\n",
    "        key = tuple(text_list[i-n+1 : i+1])\n",
    "        dict[key] = 1 if key not in dict.keys() else dict[key] + 1        \n",
    "    return dict\n",
    "\n",
    "def modified_ngram_precision(n_gram_dict_x, n_gram_dict_y):\n",
    "    '''\n",
    "    Calculates the modified n-gram precision given the n-gram dictionaries for x and y\n",
    "    '''\n",
    "    numerator = 0\n",
    "    denominator = 0\n",
    "    for n_gram in n_gram_dict_x.keys():\n",
    "        denominator += n_gram_dict_x[n_gram]\n",
    "        if n_gram in n_gram_dict_y.keys():\n",
    "            numerator += min(n_gram_dict_x[n_gram], n_gram_dict_y[n_gram])\n",
    "            \n",
    "    return numerator/denominator\n",
    "    \n",
    "def bleu_score(x, y, N = 4):\n",
    "    '''\n",
    "    Function to calculate the BLEU score\n",
    "    '''\n",
    "    # preprocessing the text\n",
    "    x = preprocess_text(x)\n",
    "    y = preprocess_text(y)\n",
    "    \n",
    "    BP = 1\n",
    "    weights = [1/N for i in range(N)] \n",
    "\n",
    "    modified_n_gram_list = []\n",
    "\n",
    "    for i in range(1, N+1):\n",
    "        # creating the n-gram dictionaries\n",
    "        n_gram_dict_x = n_gram_dict(x, i)\n",
    "        n_gram_dict_y = n_gram_dict(y, i)\n",
    "        modified_n_gram_list.append(modified_ngram_precision(n_gram_dict_x , n_gram_dict_y))\n",
    "        \n",
    "    score = 0\n",
    "    for (w , p) in zip(weights , modified_n_gram_list):\n",
    "        score += w * log(p)\n",
    "    return BP * exp(score)\n",
    "\n",
    "x = \"The boys were playing happily on the ground.\"  \n",
    "y = \"The boys were playing football on the field.\"\n",
    "\n",
    "print(bleu_score(x, y , 4))\n"
   ]
  },
  {
   "cell_type": "code",
   "execution_count": null,
   "metadata": {},
   "outputs": [],
   "source": []
  }
 ],
 "metadata": {
  "kernelspec": {
   "display_name": "Pycharm",
   "language": "python",
   "name": "python3"
  },
  "language_info": {
   "codemirror_mode": {
    "name": "ipython",
    "version": 3
   },
   "file_extension": ".py",
   "mimetype": "text/x-python",
   "name": "python",
   "nbconvert_exporter": "python",
   "pygments_lexer": "ipython3",
   "version": "3.11.7"
  }
 },
 "nbformat": 4,
 "nbformat_minor": 2
}
