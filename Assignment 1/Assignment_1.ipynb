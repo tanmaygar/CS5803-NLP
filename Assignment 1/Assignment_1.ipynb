{
 "cells": [
  {
   "cell_type": "markdown",
   "metadata": {},
   "source": [
    "# CS5803 NLP\n",
    "## Assignment 1\n",
    "### Tanmay Garg, Tanmay Goyal, Tanay Yadav\n",
    "### Roll no: CS20BTECH11063, AI20BTECH11021, AI20BTECH11026"
   ]
  },
  {
   "cell_type": "code",
   "execution_count": 2,
   "metadata": {},
   "outputs": [
    {
     "name": "stdout",
     "output_type": "stream",
     "text": [
      "the boys were playing happily on the ground\n",
      "0.6740812821425982\n"
     ]
    }
   ],
   "source": [
    "import re\n",
    "from collections import defaultdict\n",
    "from math import log, exp  \n",
    "import numpy as np\n",
    "\n",
    "def preprocess_text(text):\n",
    "    # remove punctuations and make it lower case\n",
    "    text = re.sub(r'[^\\w\\s]', '', text).lower()\n",
    "    return text\n",
    "\n",
    "def modified_ngram_precision(x, y, n):\n",
    "    pass\n",
    "    \n",
    "def bleu_score(x, y, n=4):\n",
    "    x = preprocess_text(x)\n",
    "    y = preprocess_text(y)\n",
    "    \n",
    "    BP = 1\n",
    "    \n",
    "    modified_n_gram_list = [] \n",
    "    for i in range(1, n+1):\n",
    "        modified_n_gram_list.append(modified_ngram_precision(x, y, i))\n",
    "        \n",
    "    score = BP * exp(sum([1/n * log(p) for p in modified_n_gram_list]))\n",
    "    return score\n",
    "\n",
    "x = \"The boys were playing happily on the ground.\"  \n",
    "y = \"The boys were playing football on the field.\"\n",
    "\n",
    "print(bleu_score(x, y))\n"
   ]
  }
 ],
 "metadata": {
  "kernelspec": {
   "display_name": "Pycharm",
   "language": "python",
   "name": "python3"
  },
  "language_info": {
   "codemirror_mode": {
    "name": "ipython",
    "version": 3
   },
   "file_extension": ".py",
   "mimetype": "text/x-python",
   "name": "python",
   "nbconvert_exporter": "python",
   "pygments_lexer": "ipython3",
   "version": "3.9.12"
  }
 },
 "nbformat": 4,
 "nbformat_minor": 2
}
